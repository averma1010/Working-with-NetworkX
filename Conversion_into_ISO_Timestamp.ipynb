{
 "cells": [
  {
   "cell_type": "code",
   "execution_count": 2,
   "metadata": {},
   "outputs": [],
   "source": [
    "import numpy as np\n",
    "import pandas as pd\n",
    "import os\n",
    "import datetime\n"
   ]
  },
  {
   "cell_type": "code",
   "execution_count": 3,
   "metadata": {},
   "outputs": [],
   "source": [
    "df = pd.read_csv(\"file.csv\", index_col = False)"
   ]
  },
  {
   "cell_type": "code",
   "execution_count": null,
   "metadata": {},
   "outputs": [],
   "source": [
    "def convert_to_iso8601(date_str): ## For Convertin time format \"%d-%m-%Y %H:%M\" to iso standard\n",
    "    input_format = \"%d-%m-%Y %H:%M\"\n",
    "    try:\n",
    "        input_date_time = pd.to_datetime(date_str, format=input_format)\n",
    "        return input_date_time.isoformat()\n",
    "    except ValueError:\n",
    "        return None ## For when you datatime column in empty and not in the correct format\n",
    "\n",
    "def unix_timestamp_to_iso(unix_timestamp):  ## Concerting unix time to iso standard\n",
    "    # Convert Unix timestamp to datetime object\n",
    "    timestamp_datetime = datetime.datetime.utcfromtimestamp(unix_timestamp)\n",
    "    \n",
    "    # Format datetime object to ISO standard\n",
    "    iso_format = timestamp_datetime.isoformat()\n",
    "    \n",
    "    return iso_format\n",
    "\n",
    "\n",
    "# Apply the conversion function to the DateColumn\n",
    "df['ISO8601_Date'] = df['timestamp'].apply(unix_timestamp_to_iso)\n",
    "\n",
    "# Display the updated DataFrame\n",
    "print(df)"
   ]
  },
  {
   "cell_type": "code",
   "execution_count": 8,
   "metadata": {},
   "outputs": [],
   "source": [
    "csv_path = os.getcwd()\n",
    "\n",
    "csv_filename = os.path.join(csv_path, f'ISO_hate_core.csv')\n",
    "df.to_csv(csv_filename, index=False)"
   ]
  }
 ],
 "metadata": {
  "kernelspec": {
   "display_name": "Python 3",
   "language": "python",
   "name": "python3"
  },
  "language_info": {
   "codemirror_mode": {
    "name": "ipython",
    "version": 3
   },
   "file_extension": ".py",
   "mimetype": "text/x-python",
   "name": "python",
   "nbconvert_exporter": "python",
   "pygments_lexer": "ipython3",
   "version": "3.10.3"
  },
  "orig_nbformat": 4
 },
 "nbformat": 4,
 "nbformat_minor": 2
}
